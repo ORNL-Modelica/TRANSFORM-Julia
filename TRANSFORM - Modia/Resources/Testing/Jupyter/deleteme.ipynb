{
 "cells": [
  {
   "cell_type": "code",
   "execution_count": 65,
   "metadata": {},
   "outputs": [
    {
     "name": "stdout",
     "output_type": "stream",
     "text": [
      "\n",
      "Instantiating model Main.sphere_model\n",
      "  0.031700 seconds (101.83 k allocations: 15.293 MiB, 86.89% compilation time)\n",
      "Q_total: Sphere Model\n",
      "var\ttime\tvalue\n",
      "min\t1.0 s\t-2510.0 ± 500.0 J\n",
      "max\t0.0 s\t0.0 ± 0.0 J\n",
      "\n",
      "Measured\tPredicted\tM-P\t\t(M-P)/M\n",
      "-2.51e+03\t-2.51e+03\t-2.20e-03\t8.75e-07\n",
      "\n",
      "\n",
      "Instantiating model Main.convection_model\n",
      "  0.025613 seconds (66.65 k allocations: 13.239 MiB, 87.28% compilation time)\n",
      "Q_total: Convection Model\n",
      "var\ttime\tvalue\n",
      "min\t1.0 s\t-600.0 ± 0.0 J\n",
      "max\t0.0 s\t0.0 ± 0.0 J\n",
      "\n",
      "Measured\tPredicted\tM-P\t\t(M-P)/M\n",
      "-6.00e+02\t-6.00e+02\t0.00e+00\t-0.00e+00\n",
      "\n",
      "\n",
      "Instantiating model Main.contact_model\n",
      "  0.023471 seconds (59.69 k allocations: 12.930 MiB, 86.41% compilation time)\n",
      "Q_total: Contact Model\n",
      "var\ttime\tvalue\n",
      "min\t1.0 s\t-8.0 ± 0.0 J\n",
      "max\t0.0 s\t0.0 ± 0.0 J\n",
      "\n",
      "Measured\tPredicted\tM-P\t\t(M-P)/M\n",
      "-8.00e+00\t-8.00e+00\t0.00e+00\t-0.00e+00\n",
      "\n",
      "\n",
      "Instantiating model Main.radiationExact_model\n",
      "  0.027956 seconds (78.29 k allocations: 13.626 MiB, 86.98% compilation time)\n",
      "Q_total: Radiation Exact Model\n",
      "var\ttime\tvalue\n",
      "min\t1.0 s\t-126.51638020454759 ± 0.0 J\n",
      "max\t0.0 s\t0.0 ± 0.0 J\n",
      "\n",
      "Measured\tPredicted\tM-P\t\t(M-P)/M\n",
      "-1.27e+02\t-1.27e+02\t2.05e-07\t-1.62e-09\n",
      "\n",
      "\n",
      "Instantiating model Main.radiationApproximate_model\n",
      "  0.042331 seconds (110.94 k allocations: 15.482 MiB, 89.63% compilation time)\n",
      "Q_total: Radiation Approximate Model\n",
      "var\ttime\tvalue\n",
      "min\t1.0 s\t-126.37886228413352 ± 0.0 J\n",
      "max\t0.0 s\t0.0 ± 0.0 J\n",
      "\n",
      "Measured\tPredicted\tM-P\t\t(M-P)/M\n",
      "-1.27e+02\t-1.26e+02\t-1.38e-01\t1.09e-03\n",
      "\n"
     ]
    },
    {
     "data": {
      "text/plain": [
       "ModiaPlot.MatrixFigure(Scene (600px, 350px):\n",
       "  19 Plots:\n",
       "    ├ AbstractPlotting.Poly{Tuple{Vector{Vector{GeometryBasics.Point{2, Float32}}}}}\n",
       "    ├ AbstractPlotting.LineSegments{Tuple{Vector{GeometryBasics.Point{2, Float32}}}}\n",
       "    ├ AbstractPlotting.LineSegments{Tuple{Vector{GeometryBasics.Point{2, Float32}}}}\n",
       "    ├ AbstractPlotting.LineSegments{Tuple{Vector{GeometryBasics.Point{2, Float32}}}}\n",
       "    ├ AbstractPlotting.LineSegments{Tuple{Vector{GeometryBasics.Point{2, Float32}}}}\n",
       "    ├ AbstractPlotting.LineSegments{Tuple{Vector{GeometryBasics.Point{2, Float32}}}}\n",
       "    ├ AbstractPlotting.LineSegments{Tuple{Vector{GeometryBasics.Point{2, Float32}}}}\n",
       "    ├ AbstractPlotting.Annotations{Tuple{Vector{Tuple{String, GeometryBasics.Point{2, Float32}}}}}\n",
       "    ├ AbstractPlotting.Text{Tuple{String}}\n",
       "    ├ AbstractPlotting.Lines{Tuple{Vector{GeometryBasics.Point{2, Float32}}}}\n",
       "    ├ AbstractPlotting.LineSegments{Tuple{Vector{GeometryBasics.Point{2, Float32}}}}\n",
       "    ├ AbstractPlotting.LineSegments{Tuple{Vector{GeometryBasics.Point{2, Float32}}}}\n",
       "    ├ AbstractPlotting.Annotations{Tuple{Vector{Tuple{String, GeometryBasics.Point{2, Float32}}}}}\n",
       "    ├ AbstractPlotting.Text{Tuple{String}}\n",
       "    ├ AbstractPlotting.Lines{Tuple{Vector{GeometryBasics.Point{2, Float32}}}}\n",
       "    ├ AbstractPlotting.Lines{Tuple{Vector{GeometryBasics.Point{2, Float32}}}}\n",
       "    ├ AbstractPlotting.Lines{Tuple{Vector{GeometryBasics.Point{2, Float32}}}}\n",
       "    ├ AbstractPlotting.Text{Tuple{String}}\n",
       "    └ AbstractPlotting.Text{Tuple{String}}\n",
       "  2 Child Scenes:\n",
       "    ├ Scene (505px, 239px)\n",
       "    └ Scene (83px, 20px), (600, 350), ModiaPlot.Diagram[ModiaPlot.Diagram(Scene (600px, 350px):\n",
       "  19 Plots:\n",
       "    ├ AbstractPlotting.Poly{Tuple{Vector{Vector{GeometryBasics.Point{2, Float32}}}}}\n",
       "    ├ AbstractPlotting.LineSegments{Tuple{Vector{GeometryBasics.Point{2, Float32}}}}\n",
       "    ├ AbstractPlotting.LineSegments{Tuple{Vector{GeometryBasics.Point{2, Float32}}}}\n",
       "    ├ AbstractPlotting.LineSegments{Tuple{Vector{GeometryBasics.Point{2, Float32}}}}\n",
       "    ├ AbstractPlotting.LineSegments{Tuple{Vector{GeometryBasics.Point{2, Float32}}}}\n",
       "    ├ AbstractPlotting.LineSegments{Tuple{Vector{GeometryBasics.Point{2, Float32}}}}\n",
       "    ├ AbstractPlotting.LineSegments{Tuple{Vector{GeometryBasics.Point{2, Float32}}}}\n",
       "    ├ AbstractPlotting.Annotations{Tuple{Vector{Tuple{String, GeometryBasics.Point{2, Float32}}}}}\n",
       "    ├ AbstractPlotting.Text{Tuple{String}}\n",
       "    ├ AbstractPlotting.Lines{Tuple{Vector{GeometryBasics.Point{2, Float32}}}}\n",
       "    ├ AbstractPlotting.LineSegments{Tuple{Vector{GeometryBasics.Point{2, Float32}}}}\n",
       "    ├ AbstractPlotting.LineSegments{Tuple{Vector{GeometryBasics.Point{2, Float32}}}}\n",
       "    ├ AbstractPlotting.Annotations{Tuple{Vector{Tuple{String, GeometryBasics.Point{2, Float32}}}}}\n",
       "    ├ AbstractPlotting.Text{Tuple{String}}\n",
       "    ├ AbstractPlotting.Lines{Tuple{Vector{GeometryBasics.Point{2, Float32}}}}\n",
       "    ├ AbstractPlotting.Lines{Tuple{Vector{GeometryBasics.Point{2, Float32}}}}\n",
       "    ├ AbstractPlotting.Lines{Tuple{Vector{GeometryBasics.Point{2, Float32}}}}\n",
       "    ├ AbstractPlotting.Text{Tuple{String}}\n",
       "    └ AbstractPlotting.Text{Tuple{String}}\n",
       "  2 Child Scenes:\n",
       "    ├ Scene (505px, 239px)\n",
       "    └ Scene (83px, 20px), Axis (2 plots), 1, 1, Any[AbstractPlotting.Lines{Tuple{Vector{GeometryBasics.Point{2, Float32}}}}], [\"Q_total [J]\"])])"
      ]
     },
     "execution_count": 65,
     "metadata": {},
     "output_type": "execute_result"
    }
   ],
   "source": [
    "include(\"../../../HeatAndMassTransfer/Examples/resistanceCheck.jl\")"
   ]
  },
  {
   "cell_type": "code",
   "execution_count": 28,
   "metadata": {},
   "outputs": [],
   "source": [
    "import PhysicalConstants.CODATA2018 as Constants"
   ]
  },
  {
   "cell_type": "code",
   "execution_count": 3,
   "metadata": {},
   "outputs": [
    {
     "data": {
      "text/plain": [
       "2.220446049250313e-16"
      ]
     },
     "execution_count": 3,
     "metadata": {},
     "output_type": "execute_result"
    }
   ],
   "source": [
    "ϵ"
   ]
  },
  {
   "cell_type": "code",
   "execution_count": 30,
   "metadata": {},
   "outputs": [
    {
     "data": {
      "text/plain": [
       "5.6703744191844294e-8 W K^-4 m^-2"
      ]
     },
     "execution_count": 30,
     "metadata": {},
     "output_type": "execute_result"
    }
   ],
   "source": [
    "Constants.StefanBoltzmannConstant*1.0"
   ]
  },
  {
   "cell_type": "code",
   "execution_count": 33,
   "metadata": {},
   "outputs": [
    {
     "data": {
      "text/plain": [
       "0.01 m^2"
      ]
     },
     "execution_count": 33,
     "metadata": {},
     "output_type": "execute_result"
    }
   ],
   "source": [
    "surfaceArea = 0.01u\"m^2\""
   ]
  },
  {
   "cell_type": "code",
   "execution_count": 34,
   "metadata": {},
   "outputs": [
    {
     "data": {
      "text/plain": [
       "1.0"
      ]
     },
     "execution_count": 34,
     "metadata": {},
     "output_type": "execute_result"
    }
   ],
   "source": [
    "epsilon = 1.0u\"m/m\""
   ]
  },
  {
   "cell_type": "code",
   "execution_count": 35,
   "metadata": {},
   "outputs": [
    {
     "data": {
      "text/plain": [
       "313.15 K"
      ]
     },
     "execution_count": 35,
     "metadata": {},
     "output_type": "execute_result"
    }
   ],
   "source": [
    "T_a = 293.15u\"K\"\n",
    "T_b = 313.15u\"K\""
   ]
  },
  {
   "cell_type": "code",
   "execution_count": 36,
   "metadata": {},
   "outputs": [
    {
     "data": {
      "text/plain": [
       "15.808229707224193 K W^-1"
      ]
     },
     "execution_count": 36,
     "metadata": {},
     "output_type": "execute_result"
    }
   ],
   "source": [
    "1/(surfaceArea*Constants.StefanBoltzmannConstant*epsilon*(T_a^2+T_b^2)*(T_a + T_b))"
   ]
  },
  {
   "cell_type": "code",
   "execution_count": 42,
   "metadata": {},
   "outputs": [
    {
     "data": {
      "text/plain": [
       "Stefan-Boltzmann constant (σ)\n",
       "Value                         = 5.6703744191844294e-8 W K^-4 m^-2\n",
       "Standard uncertainty          = (exact)\n",
       "Relative standard uncertainty = (exact)\n",
       "Reference                     = CODATA 2018"
      ]
     },
     "execution_count": 42,
     "metadata": {},
     "output_type": "execute_result"
    }
   ],
   "source": [
    "Constants.StefanBoltzmannConstant"
   ]
  },
  {
   "cell_type": "code",
   "execution_count": 43,
   "metadata": {},
   "outputs": [],
   "source": [
    "import PhysicalConstants.CODATA2018: σ"
   ]
  },
  {
   "cell_type": "code",
   "execution_count": 47,
   "metadata": {},
   "outputs": [
    {
     "ename": "LoadError",
     "evalue": "MethodError: objects of type PhysicalConstants.PhysicalConstant{Symbol(\"##StefanBoltzmannConstant#315\"), Float64, 𝐌 𝚯^-4 𝐓^-3, Unitful.FreeUnits{(K^-4, m^-2, W), 𝐌 𝚯^-4 𝐓^-3, nothing}} are not callable\nMaybe you forgot to use an operator such as \u001b[36m*, ^, %, / etc. \u001b[39m?",
     "output_type": "error",
     "traceback": [
      "MethodError: objects of type PhysicalConstants.PhysicalConstant{Symbol(\"##StefanBoltzmannConstant#315\"), Float64, 𝐌 𝚯^-4 𝐓^-3, Unitful.FreeUnits{(K^-4, m^-2, W), 𝐌 𝚯^-4 𝐓^-3, nothing}} are not callable\nMaybe you forgot to use an operator such as \u001b[36m*, ^, %, / etc. \u001b[39m?",
      "",
      "Stacktrace:",
      " [1] top-level scope",
      "   @ In[47]:1",
      " [2] eval",
      "   @ .\\boot.jl:369 [inlined]",
      " [3] include_string(mapexpr::typeof(REPL.softscope), mod::Module, code::String, filename::String)",
      "   @ Base .\\loading.jl:1099"
     ]
    }
   ],
   "source": [
    "σ()"
   ]
  },
  {
   "cell_type": "code",
   "execution_count": 63,
   "metadata": {},
   "outputs": [
    {
     "data": {
      "text/plain": [
       "π = 3.1415926535897..."
      ]
     },
     "execution_count": 63,
     "metadata": {},
     "output_type": "execute_result"
    }
   ],
   "source": [
    "π"
   ]
  },
  {
   "cell_type": "code",
   "execution_count": null,
   "metadata": {},
   "outputs": [],
   "source": []
  }
 ],
 "metadata": {
  "kernelspec": {
   "display_name": "Julia 1.7.0-DEV",
   "language": "julia",
   "name": "julia-1.7"
  },
  "language_info": {
   "file_extension": ".jl",
   "mimetype": "application/julia",
   "name": "julia",
   "version": "1.7.0"
  }
 },
 "nbformat": 4,
 "nbformat_minor": 4
}
