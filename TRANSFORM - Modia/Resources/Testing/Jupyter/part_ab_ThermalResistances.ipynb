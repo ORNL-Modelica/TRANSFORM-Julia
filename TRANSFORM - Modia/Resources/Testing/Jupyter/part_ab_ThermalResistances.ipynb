{
 "cells": [
  {
   "cell_type": "code",
   "execution_count": 37,
   "metadata": {},
   "outputs": [
    {
     "name": "stdout",
     "output_type": "stream",
     "text": [
      "\n",
      "Instantiating model Main.model\n",
      "\n",
      "Warning message from getSortedAndSolvedAST for model model:\n",
      "It is heuristically assumed that equation system is linear (although isLinearEquation returned isLinear=false).\n",
      "Involved variables:\n",
      "    radiationOuter.R\n",
      "    convectionOuter.port_a.Q_flow\n",
      "    radiationOuter.port_a.Q_flow\n",
      "    convectionOuter.port_a.T\n",
      "    linerOuter.port_a.T\n",
      "    contact_2.port_a.T\n",
      "    insulation.port_a.T\n",
      "    contact_1.port_a.T\n",
      "    linerInner.port_a.T\n",
      "    convectionInner.port_a.Q_flow\n",
      "Involved equations:\n",
      "    radiationOuter.R = if radiationOuter.useExact\n",
      "        1 / (radiationOuter.surfaceArea * radiationOuter.sigma * radiationOuter.epsilon * (convectionOuter.port_a.T ^ 2 + boundaryT_b.port.T ^ 2) * (convectionOuter.port_a.T + boundaryT_b.port.T))\n",
      "    else\n",
      "        1 / (4 * radiationOuter.surfaceArea * radiationOuter.sigma * radiationOuter.epsilon * (0.5 * (convectionOuter.port_a.T + boundaryT_b.port.T)) ^ 3)\n",
      "    end\n",
      "    convectionOuter.port_a.Q_flow = (convectionOuter.port_a.T - boundaryT_b.port.T) / convectionOuter.R\n",
      "    0 = (-1 * radiationOuter.port_a.Q_flow + -1 * convectionOuter.port_a.Q_flow) + convectionInner.port_a.Q_flow\n",
      "    radiationOuter.port_a.Q_flow = (convectionOuter.port_a.T - boundaryT_b.port.T) / radiationOuter.R\n",
      "    convectionInner.port_a.Q_flow = (linerOuter.port_a.T - convectionOuter.port_a.T) / linerOuter.R\n",
      "    convectionInner.port_a.Q_flow = (contact_2.port_a.T - linerOuter.port_a.T) / contact_2.R\n",
      "    convectionInner.port_a.Q_flow = (insulation.port_a.T - contact_2.port_a.T) / insulation.R\n",
      "    convectionInner.port_a.Q_flow = (contact_1.port_a.T - insulation.port_a.T) / contact_1.R\n",
      "    convectionInner.port_a.Q_flow = (linerInner.port_a.T - contact_1.port_a.T) / linerInner.R\n",
      "    convectionInner.port_a.Q_flow = (boundaryT_a.port.T - linerInner.port_a.T) / convectionInner.R\n",
      "\n",
      "  0.170099 seconds (564.62 k allocations: 48.643 MiB, 85.07% compilation time)\n",
      "Q_total: Thermal Resistances Model\n",
      "var\ttime\tvalue\n",
      "min\t1.0 s\t-67.18076444725126 ± 0.0 J\n",
      "max\t0.0 s\t0.0 ± 0.0 J\n",
      "\n",
      "Measured\tPredicted\tM-P\t\t(M-P)/M\n",
      "-6.94e+01\t-6.72e+01\t-2.25e+00\t3.25e-02\n",
      "\n"
     ]
    },
    {
     "data": {
      "text/plain": [
       "ModiaPlot.MatrixFigure(Scene (600px, 350px):\n",
       "  19 Plots:\n",
       "    ├ AbstractPlotting.Poly{Tuple{Vector{Vector{GeometryBasics.Point{2, Float32}}}}}\n",
       "    ├ AbstractPlotting.LineSegments{Tuple{Vector{GeometryBasics.Point{2, Float32}}}}\n",
       "    ├ AbstractPlotting.LineSegments{Tuple{Vector{GeometryBasics.Point{2, Float32}}}}\n",
       "    ├ AbstractPlotting.LineSegments{Tuple{Vector{GeometryBasics.Point{2, Float32}}}}\n",
       "    ├ AbstractPlotting.LineSegments{Tuple{Vector{GeometryBasics.Point{2, Float32}}}}\n",
       "    ├ AbstractPlotting.LineSegments{Tuple{Vector{GeometryBasics.Point{2, Float32}}}}\n",
       "    ├ AbstractPlotting.LineSegments{Tuple{Vector{GeometryBasics.Point{2, Float32}}}}\n",
       "    ├ AbstractPlotting.Annotations{Tuple{Vector{Tuple{String, GeometryBasics.Point{2, Float32}}}}}\n",
       "    ├ AbstractPlotting.Text{Tuple{String}}\n",
       "    ├ AbstractPlotting.Lines{Tuple{Vector{GeometryBasics.Point{2, Float32}}}}\n",
       "    ├ AbstractPlotting.LineSegments{Tuple{Vector{GeometryBasics.Point{2, Float32}}}}\n",
       "    ├ AbstractPlotting.LineSegments{Tuple{Vector{GeometryBasics.Point{2, Float32}}}}\n",
       "    ├ AbstractPlotting.Annotations{Tuple{Vector{Tuple{String, GeometryBasics.Point{2, Float32}}}}}\n",
       "    ├ AbstractPlotting.Text{Tuple{String}}\n",
       "    ├ AbstractPlotting.Lines{Tuple{Vector{GeometryBasics.Point{2, Float32}}}}\n",
       "    ├ AbstractPlotting.Lines{Tuple{Vector{GeometryBasics.Point{2, Float32}}}}\n",
       "    ├ AbstractPlotting.Lines{Tuple{Vector{GeometryBasics.Point{2, Float32}}}}\n",
       "    ├ AbstractPlotting.Text{Tuple{String}}\n",
       "    └ AbstractPlotting.Text{Tuple{String}}\n",
       "  2 Child Scenes:\n",
       "    ├ Scene (505px, 239px)\n",
       "    └ Scene (83px, 20px), (600, 350), ModiaPlot.Diagram[ModiaPlot.Diagram(Scene (600px, 350px):\n",
       "  19 Plots:\n",
       "    ├ AbstractPlotting.Poly{Tuple{Vector{Vector{GeometryBasics.Point{2, Float32}}}}}\n",
       "    ├ AbstractPlotting.LineSegments{Tuple{Vector{GeometryBasics.Point{2, Float32}}}}\n",
       "    ├ AbstractPlotting.LineSegments{Tuple{Vector{GeometryBasics.Point{2, Float32}}}}\n",
       "    ├ AbstractPlotting.LineSegments{Tuple{Vector{GeometryBasics.Point{2, Float32}}}}\n",
       "    ├ AbstractPlotting.LineSegments{Tuple{Vector{GeometryBasics.Point{2, Float32}}}}\n",
       "    ├ AbstractPlotting.LineSegments{Tuple{Vector{GeometryBasics.Point{2, Float32}}}}\n",
       "    ├ AbstractPlotting.LineSegments{Tuple{Vector{GeometryBasics.Point{2, Float32}}}}\n",
       "    ├ AbstractPlotting.Annotations{Tuple{Vector{Tuple{String, GeometryBasics.Point{2, Float32}}}}}\n",
       "    ├ AbstractPlotting.Text{Tuple{String}}\n",
       "    ├ AbstractPlotting.Lines{Tuple{Vector{GeometryBasics.Point{2, Float32}}}}\n",
       "    ├ AbstractPlotting.LineSegments{Tuple{Vector{GeometryBasics.Point{2, Float32}}}}\n",
       "    ├ AbstractPlotting.LineSegments{Tuple{Vector{GeometryBasics.Point{2, Float32}}}}\n",
       "    ├ AbstractPlotting.Annotations{Tuple{Vector{Tuple{String, GeometryBasics.Point{2, Float32}}}}}\n",
       "    ├ AbstractPlotting.Text{Tuple{String}}\n",
       "    ├ AbstractPlotting.Lines{Tuple{Vector{GeometryBasics.Point{2, Float32}}}}\n",
       "    ├ AbstractPlotting.Lines{Tuple{Vector{GeometryBasics.Point{2, Float32}}}}\n",
       "    ├ AbstractPlotting.Lines{Tuple{Vector{GeometryBasics.Point{2, Float32}}}}\n",
       "    ├ AbstractPlotting.Text{Tuple{String}}\n",
       "    └ AbstractPlotting.Text{Tuple{String}}\n",
       "  2 Child Scenes:\n",
       "    ├ Scene (505px, 239px)\n",
       "    └ Scene (83px, 20px), Axis (2 plots), 1, 1, Any[AbstractPlotting.Lines{Tuple{Vector{GeometryBasics.Point{2, Float32}}}}], [\"Q_total [J]\"])])"
      ]
     },
     "execution_count": 37,
     "metadata": {},
     "output_type": "execute_result"
    }
   ],
   "source": [
    "include(\"../../../HeatAndMassTransfer/Examples/part_ab_ThermalResistances.jl\")"
   ]
  },
  {
   "cell_type": "code",
   "execution_count": null,
   "metadata": {},
   "outputs": [],
   "source": []
  }
 ],
 "metadata": {
  "kernelspec": {
   "display_name": "Julia 1.7.0-DEV",
   "language": "julia",
   "name": "julia-1.7"
  },
  "language_info": {
   "file_extension": ".jl",
   "mimetype": "application/julia",
   "name": "julia",
   "version": "1.7.0"
  }
 },
 "nbformat": 4,
 "nbformat_minor": 4
}
