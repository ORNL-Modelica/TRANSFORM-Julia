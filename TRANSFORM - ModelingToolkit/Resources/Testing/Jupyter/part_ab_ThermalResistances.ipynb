{
 "cells": [
  {
   "cell_type": "code",
   "execution_count": 1,
   "metadata": {},
   "outputs": [
    {
     "ename": "LoadError",
     "evalue": "LoadError: The nonlinear solver failed with the return code MAXITERS_EXCEED.\nin expression starting at C:\\Users\\vmg\\Documents\\Julia\\transform-library-julia\\TRANSFORM\\HeatAndMassTransfer\\Examples\\part_ab_ThermalResistances.jl:52",
     "output_type": "error",
     "traceback": [
      "LoadError: The nonlinear solver failed with the return code MAXITERS_EXCEED.\nin expression starting at C:\\Users\\vmg\\Documents\\Julia\\transform-library-julia\\TRANSFORM\\HeatAndMassTransfer\\Examples\\part_ab_ThermalResistances.jl:52",
      "",
      "Stacktrace:",
      "  [1] error(s::String)",
      "    @ Base .\\error.jl:33",
      "  [2] nlsolve_failure(rc::Symbol)",
      "    @ ModelingToolkit.StructuralTransformations C:\\Users\\vmg\\.julia\\packages\\ModelingToolkit\\DOKSJ\\src\\structural_transformation\\utils.jl:300",
      "  [3] numerical_nlsolve",
      "    @ C:\\Users\\vmg\\.julia\\packages\\ModelingToolkit\\DOKSJ\\src\\structural_transformation\\utils.jl:306 [inlined]",
      "  [4] macro expansion",
      "    @ C:\\Users\\vmg\\.julia\\packages\\ModelingToolkit\\DOKSJ\\src\\structural_transformation\\codegen.jl:154 [inlined]",
      "  [5] macro expansion",
      "    @ C:\\Users\\vmg\\.julia\\packages\\SymbolicUtils\\9iQGH\\src\\code.jl:283 [inlined]",
      "  [6] macro expansion",
      "    @ C:\\Users\\vmg\\.julia\\packages\\RuntimeGeneratedFunctions\\3SZ1T\\src\\RuntimeGeneratedFunctions.jl:124 [inlined]",
      "  [7] macro expansion",
      "    @ .\\none:0 [inlined]",
      "  [8] generated_callfunc",
      "    @ .\\none:0 [inlined]",
      "  [9] (::RuntimeGeneratedFunctions.RuntimeGeneratedFunction{(Symbol(\"##out#272\"), Symbol(\"##arg#273\"), Symbol(\"##arg#274\"), :t), ModelingToolkit.StructuralTransformations.var\"#_RGF_ModTag\", ModelingToolkit.StructuralTransformations.var\"#_RGF_ModTag\", (0x9abc2607, 0x89ed61fd, 0xab87e6f4, 0xff23dbaf, 0x015f6746)})(::Vector{Float64}, ::Vector{Float64}, ::Vector{Float64}, ::Float64)",
      "    @ RuntimeGeneratedFunctions C:\\Users\\vmg\\.julia\\packages\\RuntimeGeneratedFunctions\\3SZ1T\\src\\RuntimeGeneratedFunctions.jl:112",
      " [10] ODEFunction",
      "    @ C:\\Users\\vmg\\.julia\\packages\\SciMLBase\\EFFG1\\src\\scimlfunctions.jl:334 [inlined]",
      " [11] initialize!(integrator::OrdinaryDiffEq.ODEIntegrator{Tsit5, true, Vector{Float64}, Nothing, Float64, Vector{Float64}, Float64, Float64, Float64, Vector{Vector{Float64}}, ODESolution{Float64, 2, Vector{Vector{Float64}}, Nothing, Nothing, Vector{Float64}, Vector{Vector{Vector{Float64}}}, ODEProblem{Vector{Float64}, Tuple{Float64, Float64}, true, Vector{Float64}, ODEFunction{true, RuntimeGeneratedFunctions.RuntimeGeneratedFunction{(Symbol(\"##out#272\"), Symbol(\"##arg#273\"), Symbol(\"##arg#274\"), :t), ModelingToolkit.StructuralTransformations.var\"#_RGF_ModTag\", ModelingToolkit.StructuralTransformations.var\"#_RGF_ModTag\", (0x9abc2607, 0x89ed61fd, 0xab87e6f4, 0xff23dbaf, 0x015f6746)}, LinearAlgebra.UniformScaling{Bool}, Nothing, Nothing, Nothing, Nothing, Nothing, Nothing, SparseArrays.SparseMatrixCSC{Bool, Int64}, Nothing, Nothing, Nothing, Vector{Symbol}, Nothing, ModelingToolkit.StructuralTransformations.var\"#generated_observed#56\"{Bool, ODESystem, Dict{Any, Any}}, Nothing}, Base.Pairs{Symbol, Union{}, Tuple{}, NamedTuple{(), Tuple{}}}, SciMLBase.StandardODEProblem}, Tsit5, OrdinaryDiffEq.InterpolationData{ODEFunction{true, RuntimeGeneratedFunctions.RuntimeGeneratedFunction{(Symbol(\"##out#272\"), Symbol(\"##arg#273\"), Symbol(\"##arg#274\"), :t), ModelingToolkit.StructuralTransformations.var\"#_RGF_ModTag\", ModelingToolkit.StructuralTransformations.var\"#_RGF_ModTag\", (0x9abc2607, 0x89ed61fd, 0xab87e6f4, 0xff23dbaf, 0x015f6746)}, LinearAlgebra.UniformScaling{Bool}, Nothing, Nothing, Nothing, Nothing, Nothing, Nothing, SparseArrays.SparseMatrixCSC{Bool, Int64}, Nothing, Nothing, Nothing, Vector{Symbol}, Nothing, ModelingToolkit.StructuralTransformations.var\"#generated_observed#56\"{Bool, ODESystem, Dict{Any, Any}}, Nothing}, Vector{Vector{Float64}}, Vector{Float64}, Vector{Vector{Vector{Float64}}}, OrdinaryDiffEq.Tsit5Cache{Vector{Float64}, Vector{Float64}, Vector{Float64}, OrdinaryDiffEq.Tsit5ConstantCache{Float64, Float64}}}, DiffEqBase.DEStats}, ODEFunction{true, RuntimeGeneratedFunctions.RuntimeGeneratedFunction{(Symbol(\"##out#272\"), Symbol(\"##arg#273\"), Symbol(\"##arg#274\"), :t), ModelingToolkit.StructuralTransformations.var\"#_RGF_ModTag\", ModelingToolkit.StructuralTransformations.var\"#_RGF_ModTag\", (0x9abc2607, 0x89ed61fd, 0xab87e6f4, 0xff23dbaf, 0x015f6746)}, LinearAlgebra.UniformScaling{Bool}, Nothing, Nothing, Nothing, Nothing, Nothing, Nothing, SparseArrays.SparseMatrixCSC{Bool, Int64}, Nothing, Nothing, Nothing, Vector{Symbol}, Nothing, ModelingToolkit.StructuralTransformations.var\"#generated_observed#56\"{Bool, ODESystem, Dict{Any, Any}}, Nothing}, OrdinaryDiffEq.Tsit5Cache{Vector{Float64}, Vector{Float64}, Vector{Float64}, OrdinaryDiffEq.Tsit5ConstantCache{Float64, Float64}}, OrdinaryDiffEq.DEOptions{Float64, Float64, Float64, Float64, typeof(DiffEqBase.ODE_DEFAULT_NORM), typeof(LinearAlgebra.opnorm), Nothing, CallbackSet{Tuple{}, Tuple{}}, typeof(DiffEqBase.ODE_DEFAULT_ISOUTOFDOMAIN), typeof(DiffEqBase.ODE_DEFAULT_PROG_MESSAGE), typeof(DiffEqBase.ODE_DEFAULT_UNSTABLE_CHECK), DataStructures.BinaryMinHeap{Float64}, DataStructures.BinaryMinHeap{Float64}, Nothing, Nothing, Int64, Tuple{}, Tuple{}, Tuple{}}, Vector{Float64}, Float64, Nothing, OrdinaryDiffEq.DefaultInit}, cache::OrdinaryDiffEq.Tsit5Cache{Vector{Float64}, Vector{Float64}, Vector{Float64}, OrdinaryDiffEq.Tsit5ConstantCache{Float64, Float64}})",
      "    @ OrdinaryDiffEq C:\\Users\\vmg\\.julia\\packages\\OrdinaryDiffEq\\IOPED\\src\\perform_step\\low_order_rk_perform_step.jl:623",
      " [12] __init(prob::ODEProblem{Vector{Float64}, Tuple{Float64, Float64}, true, Vector{Float64}, ODEFunction{true, RuntimeGeneratedFunctions.RuntimeGeneratedFunction{(Symbol(\"##out#272\"), Symbol(\"##arg#273\"), Symbol(\"##arg#274\"), :t), ModelingToolkit.StructuralTransformations.var\"#_RGF_ModTag\", ModelingToolkit.StructuralTransformations.var\"#_RGF_ModTag\", (0x9abc2607, 0x89ed61fd, 0xab87e6f4, 0xff23dbaf, 0x015f6746)}, LinearAlgebra.UniformScaling{Bool}, Nothing, Nothing, Nothing, Nothing, Nothing, Nothing, SparseArrays.SparseMatrixCSC{Bool, Int64}, Nothing, Nothing, Nothing, Vector{Symbol}, Nothing, ModelingToolkit.StructuralTransformations.var\"#generated_observed#56\"{Bool, ODESystem, Dict{Any, Any}}, Nothing}, Base.Pairs{Symbol, Union{}, Tuple{}, NamedTuple{(), Tuple{}}}, SciMLBase.StandardODEProblem}, alg::Tsit5, timeseries_init::Tuple{}, ts_init::Tuple{}, ks_init::Tuple{}, recompile::Type{Val{true}}; saveat::Tuple{}, tstops::Tuple{}, d_discontinuities::Tuple{}, save_idxs::Nothing, save_everystep::Bool, save_on::Bool, save_start::Bool, save_end::Nothing, callback::Nothing, dense::Bool, calck::Bool, dt::Float64, dtmin::Nothing, dtmax::Float64, force_dtmin::Bool, adaptive::Bool, gamma::Rational{Int64}, abstol::Nothing, reltol::Nothing, qmin::Rational{Int64}, qmax::Int64, qsteady_min::Int64, qsteady_max::Int64, qoldinit::Rational{Int64}, fullnormalize::Bool, failfactor::Int64, beta1::Nothing, beta2::Nothing, maxiters::Int64, internalnorm::typeof(DiffEqBase.ODE_DEFAULT_NORM), internalopnorm::typeof(LinearAlgebra.opnorm), isoutofdomain::typeof(DiffEqBase.ODE_DEFAULT_ISOUTOFDOMAIN), unstable_check::typeof(DiffEqBase.ODE_DEFAULT_UNSTABLE_CHECK), verbose::Bool, timeseries_errors::Bool, dense_errors::Bool, advance_to_tstop::Bool, stop_at_next_tstop::Bool, initialize_save::Bool, progress::Bool, progress_steps::Int64, progress_name::String, progress_message::typeof(DiffEqBase.ODE_DEFAULT_PROG_MESSAGE), userdata::Nothing, allow_extrapolation::Bool, initialize_integrator::Bool, alias_u0::Bool, alias_du0::Bool, initializealg::OrdinaryDiffEq.DefaultInit, kwargs::Base.Pairs{Symbol, Union{}, Tuple{}, NamedTuple{(), Tuple{}}})",
      "    @ OrdinaryDiffEq C:\\Users\\vmg\\.julia\\packages\\OrdinaryDiffEq\\IOPED\\src\\solve.jl:434",
      " [13] __init(prob::ODEProblem{Vector{Float64}, Tuple{Float64, Float64}, true, Vector{Float64}, ODEFunction{true, RuntimeGeneratedFunctions.RuntimeGeneratedFunction{(Symbol(\"##out#272\"), Symbol(\"##arg#273\"), Symbol(\"##arg#274\"), :t), ModelingToolkit.StructuralTransformations.var\"#_RGF_ModTag\", ModelingToolkit.StructuralTransformations.var\"#_RGF_ModTag\", (0x9abc2607, 0x89ed61fd, 0xab87e6f4, 0xff23dbaf, 0x015f6746)}, LinearAlgebra.UniformScaling{Bool}, Nothing, Nothing, Nothing, Nothing, Nothing, Nothing, SparseArrays.SparseMatrixCSC{Bool, Int64}, Nothing, Nothing, Nothing, Vector{Symbol}, Nothing, ModelingToolkit.StructuralTransformations.var\"#generated_observed#56\"{Bool, ODESystem, Dict{Any, Any}}, Nothing}, Base.Pairs{Symbol, Union{}, Tuple{}, NamedTuple{(), Tuple{}}}, SciMLBase.StandardODEProblem}, alg::Tsit5, timeseries_init::Tuple{}, ts_init::Tuple{}, ks_init::Tuple{}, recompile::Type{Val{true}}) (repeats 5 times)",
      "    @ OrdinaryDiffEq C:\\Users\\vmg\\.julia\\packages\\OrdinaryDiffEq\\IOPED\\src\\solve.jl:66",
      " [14] #__solve#407",
      "    @ C:\\Users\\vmg\\.julia\\packages\\OrdinaryDiffEq\\IOPED\\src\\solve.jl:4 [inlined]",
      " [15] __solve",
      "    @ C:\\Users\\vmg\\.julia\\packages\\OrdinaryDiffEq\\IOPED\\src\\solve.jl:4 [inlined]",
      " [16] #solve_call#56",
      "    @ C:\\Users\\vmg\\.julia\\packages\\DiffEqBase\\GmecW\\src\\solve.jl:61 [inlined]",
      " [17] solve_call",
      "    @ C:\\Users\\vmg\\.julia\\packages\\DiffEqBase\\GmecW\\src\\solve.jl:48 [inlined]",
      " [18] #solve_up#58",
      "    @ C:\\Users\\vmg\\.julia\\packages\\DiffEqBase\\GmecW\\src\\solve.jl:82 [inlined]",
      " [19] solve_up",
      "    @ C:\\Users\\vmg\\.julia\\packages\\DiffEqBase\\GmecW\\src\\solve.jl:75 [inlined]",
      " [20] #solve#57",
      "    @ C:\\Users\\vmg\\.julia\\packages\\DiffEqBase\\GmecW\\src\\solve.jl:70 [inlined]",
      " [21] solve(prob::ODEProblem{Vector{Float64}, Tuple{Float64, Float64}, true, Vector{Float64}, ODEFunction{true, RuntimeGeneratedFunctions.RuntimeGeneratedFunction{(Symbol(\"##out#272\"), Symbol(\"##arg#273\"), Symbol(\"##arg#274\"), :t), ModelingToolkit.StructuralTransformations.var\"#_RGF_ModTag\", ModelingToolkit.StructuralTransformations.var\"#_RGF_ModTag\", (0x9abc2607, 0x89ed61fd, 0xab87e6f4, 0xff23dbaf, 0x015f6746)}, LinearAlgebra.UniformScaling{Bool}, Nothing, Nothing, Nothing, Nothing, Nothing, Nothing, SparseArrays.SparseMatrixCSC{Bool, Int64}, Nothing, Nothing, Nothing, Vector{Symbol}, Nothing, ModelingToolkit.StructuralTransformations.var\"#generated_observed#56\"{Bool, ODESystem, Dict{Any, Any}}, Nothing}, Base.Pairs{Symbol, Union{}, Tuple{}, NamedTuple{(), Tuple{}}}, SciMLBase.StandardODEProblem}, args::Tsit5)",
      "    @ DiffEqBase C:\\Users\\vmg\\.julia\\packages\\DiffEqBase\\GmecW\\src\\solve.jl:68",
      " [22] top-level scope",
      "    @ C:\\Users\\vmg\\Documents\\Julia\\transform-library-julia\\TRANSFORM\\HeatAndMassTransfer\\Examples\\part_ab_ThermalResistances.jl:52",
      " [23] include(fname::String)",
      "    @ Base.MainInclude .\\client.jl:451",
      " [24] top-level scope",
      "    @ In[1]:1",
      " [25] eval",
      "    @ .\\boot.jl:369 [inlined]",
      " [26] include_string(mapexpr::typeof(REPL.softscope), mod::Module, code::String, filename::String)",
      "    @ Base .\\loading.jl:1099"
     ]
    }
   ],
   "source": [
    "include(\"../../../HeatAndMassTransfer/Examples/part_ab_ThermalResistances.jl\")"
   ]
  },
  {
   "cell_type": "code",
   "execution_count": null,
   "metadata": {},
   "outputs": [],
   "source": []
  }
 ],
 "metadata": {
  "kernelspec": {
   "display_name": "Julia 1.7.0-DEV",
   "language": "julia",
   "name": "julia-1.7"
  },
  "language_info": {
   "file_extension": ".jl",
   "mimetype": "application/julia",
   "name": "julia",
   "version": "1.7.0"
  }
 },
 "nbformat": 4,
 "nbformat_minor": 4
}
